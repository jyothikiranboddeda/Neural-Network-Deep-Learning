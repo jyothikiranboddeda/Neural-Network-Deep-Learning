{
  "cells": [
    {
      "cell_type": "code",
      "source": [
        "# Question 1\n",
        "\n",
        "class Employee:\n",
        "    employee_count = 0\n",
        "\n",
        "    # Initialize Employee Class\n",
        "    def __init__(self, name, family, salary, department):\n",
        "        self.name = name\n",
        "        self.family = family\n",
        "        self.salary = salary\n",
        "        self.department = department\n",
        "        Employee.employee_count += 1\n",
        "\n",
        "    @classmethod\n",
        "    def average_salary(cls, total_salaries):\n",
        "        # Return the average salary\n",
        "        return total_salaries / cls.employee_count\n",
        "\n",
        "\n",
        "class FulltimeEmployee(Employee):\n",
        "    def __init__(self, name, family, salary, department):\n",
        "        super().__init__(name, family, salary, department)\n",
        "\n",
        "\n",
        "# Create instances of Employee and FulltimeEmployee\n",
        "emp1 = Employee(\"Kiran\", \"kumar\", 50000, \"IT\")\n",
        "emp2 = Employee(\"Srikanth\", \"pasam\", 60000, \"HR\")\n",
        "full_time_emp1 = FulltimeEmployee(\"sai\", \"Brown\", 90000, \"finance\")\n",
        "full_time_emp2 = FulltimeEmployee(\"abhi\", \"ram\", 80000, \"Marketing\")\n",
        "\n",
        "# Calculate total salary\n",
        "total_salary = emp1.salary + emp2.salary + full_time_emp1.salary + full_time_emp2.salary\n",
        "\n",
        "# Display the average salary\n",
        "print(f\"Average Salary: {Employee.average_salary(total_salary)}\")\n",
        "\n",
        "# Display the total number of employees\n",
        "print(f\"Total Employees: {Employee.employee_count}\")"
      ],
      "metadata": {
        "id": "KUs3BtreD-Bz",
        "outputId": "ae400a2e-6681-44b3-f5f2-e4099521c83b",
        "colab": {
          "base_uri": "https://localhost:8080/"
        }
      },
      "execution_count": null,
      "outputs": [
        {
          "output_type": "stream",
          "name": "stdout",
          "text": [
            "Average Salary: 70000.0\n",
            "Total Employees: 4\n"
          ]
        }
      ]
    },
    {
      "cell_type": "code",
      "source": [
        "#Question 2\n",
        "\n",
        "import numpy as np\n",
        "\n",
        "# Creating random vector of size 20 with floats in the range 1-20\n",
        "random_vector = np.random.uniform(1,20,20)\n",
        "\n",
        "# Reshape the array to 4 by 5\n",
        "reshaped_array = random_vector.reshape(4, 5)\n",
        "\n",
        "# Replace the max in each row by 0\n",
        "reshaped_array[np.arange(reshaped_array.shape[0]), np.argmax(reshaped_array, axis=1)] = 0\n",
        "\n",
        "print(\"Reshaped array with max values replaced by 0:\\n\", reshaped_array)"
      ],
      "metadata": {
        "id": "-HgoQp9RFSc6",
        "outputId": "c0852568-2ffd-4fd8-f80e-797afef663c4",
        "colab": {
          "base_uri": "https://localhost:8080/"
        }
      },
      "execution_count": null,
      "outputs": [
        {
          "output_type": "stream",
          "name": "stdout",
          "text": [
            "Reshaped array with max values replaced by 0:\n",
            " [[12.84226037  3.09571272  9.89839672  0.         16.33059188]\n",
            " [ 0.         14.4914535   4.92863639 13.46844479  3.31520971]\n",
            " [16.99845413  6.20702911  0.         18.36208309  7.40690368]\n",
            " [ 0.          1.10269735 10.75574816  2.30574273 10.41034464]]\n"
          ]
        }
      ]
    },
    {
      "cell_type": "markdown",
      "source": [
        "Video Link: https://drive.google.com/file/d/1hACyICixftEk_v_veHCA00MrZJ2OUExw/view?usp=drive_link"
      ],
      "metadata": {
        "id": "jOtjNUaxN6-C"
      }
    }
  ],
  "metadata": {
    "colab": {
      "provenance": []
    },
    "kernelspec": {
      "display_name": "Python 3",
      "name": "python3"
    }
  },
  "nbformat": 4,
  "nbformat_minor": 0
}