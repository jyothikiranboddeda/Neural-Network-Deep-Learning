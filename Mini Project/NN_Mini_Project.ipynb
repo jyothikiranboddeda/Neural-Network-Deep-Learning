{
  "nbformat": 4,
  "nbformat_minor": 0,
  "metadata": {
    "colab": {
      "provenance": []
    },
    "kernelspec": {
      "name": "python3",
      "display_name": "Python 3"
    },
    "language_info": {
      "name": "python"
    }
  },
  "cells": [
    {
      "cell_type": "code",
      "source": [
        "from google.colab import drive\n",
        "drive.mount('/content/drive')\n"
      ],
      "metadata": {
        "colab": {
          "base_uri": "https://localhost:8080/"
        },
        "id": "f4d-G0nFHYE6",
        "outputId": "67e39fe0-f060-4400-bf49-80f69bce0241"
      },
      "execution_count": 5,
      "outputs": [
        {
          "output_type": "stream",
          "name": "stdout",
          "text": [
            "Drive already mounted at /content/drive; to attempt to forcibly remount, call drive.mount(\"/content/drive\", force_remount=True).\n"
          ]
        }
      ]
    },
    {
      "cell_type": "code",
      "execution_count": 2,
      "metadata": {
        "colab": {
          "base_uri": "https://localhost:8080/",
          "height": 1000
        },
        "id": "aW-OSF_3AUap",
        "outputId": "f0859df1-aab8-4c94-e8b1-8084e708d44b"
      },
      "outputs": [
        {
          "output_type": "stream",
          "name": "stdout",
          "text": [
            "==> Loading LC25000...\n",
            "Loading lung_aca...\n"
          ]
        },
        {
          "output_type": "stream",
          "name": "stderr",
          "text": [
            "lung_aca: 100%|██████████| 100/100 [00:00<00:00, 193.40it/s]\n"
          ]
        },
        {
          "output_type": "stream",
          "name": "stdout",
          "text": [
            "Loading lung_n...\n"
          ]
        },
        {
          "output_type": "stream",
          "name": "stderr",
          "text": [
            "lung_n: 100%|██████████| 100/100 [00:00<00:00, 118.86it/s]\n"
          ]
        },
        {
          "output_type": "stream",
          "name": "stdout",
          "text": [
            "Loading lung_sq...\n"
          ]
        },
        {
          "output_type": "stream",
          "name": "stderr",
          "text": [
            "lung_sq: 100%|██████████| 100/100 [00:00<00:00, 163.13it/s]\n"
          ]
        },
        {
          "output_type": "stream",
          "name": "stdout",
          "text": [
            "Loading colon_aca...\n"
          ]
        },
        {
          "output_type": "stream",
          "name": "stderr",
          "text": [
            "colon_aca: 100%|██████████| 100/100 [00:00<00:00, 153.85it/s]\n"
          ]
        },
        {
          "output_type": "stream",
          "name": "stdout",
          "text": [
            "Loading colon_n...\n"
          ]
        },
        {
          "output_type": "stream",
          "name": "stderr",
          "text": [
            "colon_n: 100%|██████████| 100/100 [00:00<00:00, 211.71it/s]\n"
          ]
        },
        {
          "output_type": "stream",
          "name": "stdout",
          "text": [
            "==> Loading BCCD...\n",
            "Loading EOSINOPHIL...\n"
          ]
        },
        {
          "output_type": "stream",
          "name": "stderr",
          "text": [
            "EOSINOPHIL: 100%|██████████| 100/100 [00:00<00:00, 220.26it/s]\n"
          ]
        },
        {
          "output_type": "stream",
          "name": "stdout",
          "text": [
            "Loading LYMPHOCYTE...\n"
          ]
        },
        {
          "output_type": "stream",
          "name": "stderr",
          "text": [
            "LYMPHOCYTE: 100%|██████████| 100/100 [00:00<00:00, 135.22it/s]\n"
          ]
        },
        {
          "output_type": "stream",
          "name": "stdout",
          "text": [
            "Loading MONOCYTE...\n"
          ]
        },
        {
          "output_type": "stream",
          "name": "stderr",
          "text": [
            "MONOCYTE: 100%|██████████| 100/100 [00:00<00:00, 135.76it/s]\n"
          ]
        },
        {
          "output_type": "stream",
          "name": "stdout",
          "text": [
            "Loading NEUTROPHIL...\n"
          ]
        },
        {
          "output_type": "stream",
          "name": "stderr",
          "text": [
            "NEUTROPHIL: 100%|██████████| 100/100 [00:00<00:00, 284.26it/s]\n"
          ]
        },
        {
          "output_type": "stream",
          "name": "stdout",
          "text": [
            "Loading RBC...\n"
          ]
        },
        {
          "output_type": "stream",
          "name": "stderr",
          "text": [
            "RBC: 100%|██████████| 100/100 [00:00<00:00, 249.99it/s]\n"
          ]
        },
        {
          "output_type": "stream",
          "name": "stdout",
          "text": [
            "LC25000 Loaded: (500, 224, 224, 3) (array([0, 1, 2, 3, 4]), array([100, 100, 100, 100, 100]))\n",
            "BCCD Loaded: (500, 224, 224, 3) (array([0, 1, 2, 3, 4]), array([100, 100, 100, 100, 100]))\n",
            "Downloading data from https://storage.googleapis.com/tensorflow/keras-applications/resnet/resnet50_weights_tf_dim_ordering_tf_kernels_notop.h5\n",
            "\u001b[1m94765736/94765736\u001b[0m \u001b[32m━━━━━━━━━━━━━━━━━━━━\u001b[0m\u001b[37m\u001b[0m \u001b[1m0s\u001b[0m 0us/step\n"
          ]
        },
        {
          "output_type": "stream",
          "name": "stderr",
          "text": [
            "/usr/local/lib/python3.11/dist-packages/sklearn/metrics/_classification.py:1565: UndefinedMetricWarning: Precision is ill-defined and being set to 0.0 in labels with no predicted samples. Use `zero_division` parameter to control this behavior.\n",
            "  _warn_prf(average, modifier, f\"{metric.capitalize()} is\", len(result))\n",
            "/usr/local/lib/python3.11/dist-packages/sklearn/metrics/_classification.py:1565: UndefinedMetricWarning: Precision is ill-defined and being set to 0.0 in labels with no predicted samples. Use `zero_division` parameter to control this behavior.\n",
            "  _warn_prf(average, modifier, f\"{metric.capitalize()} is\", len(result))\n",
            "/usr/local/lib/python3.11/dist-packages/sklearn/metrics/_classification.py:1565: UndefinedMetricWarning: Precision is ill-defined and being set to 0.0 in labels with no predicted samples. Use `zero_division` parameter to control this behavior.\n",
            "  _warn_prf(average, modifier, f\"{metric.capitalize()} is\", len(result))\n",
            "/usr/local/lib/python3.11/dist-packages/sklearn/metrics/_classification.py:1565: UndefinedMetricWarning: Precision is ill-defined and being set to 0.0 in labels with no predicted samples. Use `zero_division` parameter to control this behavior.\n",
            "  _warn_prf(average, modifier, f\"{metric.capitalize()} is\", len(result))\n",
            "/usr/local/lib/python3.11/dist-packages/sklearn/metrics/_classification.py:1565: UndefinedMetricWarning: Precision is ill-defined and being set to 0.0 in labels with no predicted samples. Use `zero_division` parameter to control this behavior.\n",
            "  _warn_prf(average, modifier, f\"{metric.capitalize()} is\", len(result))\n",
            "/usr/local/lib/python3.11/dist-packages/sklearn/metrics/_classification.py:1565: UndefinedMetricWarning: Precision is ill-defined and being set to 0.0 in labels with no predicted samples. Use `zero_division` parameter to control this behavior.\n",
            "  _warn_prf(average, modifier, f\"{metric.capitalize()} is\", len(result))\n"
          ]
        },
        {
          "output_type": "display_data",
          "data": {
            "text/plain": [
              "<Figure size 1200x600 with 4 Axes>"
            ],
            "image/png": "[encoded data removed]"
          },
          "metadata": {}
        },
        {
          "output_type": "stream",
          "name": "stdout",
          "text": [
            "\n",
            "LC25000 Performance:\n",
            " Labeled Ratio  Precision  Recall  F1-score  Accuracy\n",
            "          10.0   3.800000    20.0  6.386555 19.000000\n",
            "          25.0   3.626667    20.0  6.139955 18.133333\n",
            "          50.0   3.520000    20.0  5.986395 17.600000\n",
            "\n",
            "BCCD Performance:\n",
            " Labeled Ratio  Precision  Recall  F1-score  Accuracy\n",
            "          10.0       3.90    20.0  6.527197      19.5\n",
            "          25.0       3.68    20.0  6.216216      18.4\n",
            "          50.0       3.44    20.0  5.870307      17.2\n"
          ]
        }
      ],
      "source": [
        "import os\n",
        "import numpy as np\n",
        "import pandas as pd\n",
        "import seaborn as sns\n",
        "import matplotlib.pyplot as plt\n",
        "from PIL import Image, UnidentifiedImageError\n",
        "from tqdm import tqdm\n",
        "from sklearn.metrics import accuracy_score, precision_score, recall_score, f1_score\n",
        "from tensorflow import keras\n",
        "from tensorflow.keras import layers\n",
        "\n",
        "# -----------------------------\n",
        "# Safe loader with error skipping\n",
        "# -----------------------------\n",
        "def safe_load_dataset(root_path, label_map, resize=(224, 224), verbose=True):\n",
        "    X, y = [], []\n",
        "    for label_name, label_id in label_map.items():\n",
        "        full_path = os.path.join(root_path, label_name)\n",
        "        if not os.path.exists(full_path):\n",
        "            print(f\"Skipping missing folder: {full_path}\")\n",
        "            continue\n",
        "        image_files = os.listdir(full_path)\n",
        "        if verbose:\n",
        "            print(f\"Loading {label_name}...\")\n",
        "        for fname in tqdm(image_files, desc=f\"{label_name}\"):\n",
        "            try:\n",
        "                with Image.open(os.path.join(full_path, fname)) as img:\n",
        "                    img = img.convert(\"RGB\").resize(resize)\n",
        "                    X.append(np.array(img) / 255.0)\n",
        "                    y.append(label_id)\n",
        "            except (UnidentifiedImageError, OSError, ValueError):\n",
        "                print(f\"Corrupt image skipped: {fname}\")\n",
        "    return np.array(X), np.array(y)\n",
        "\n",
        "# -----------------------------\n",
        "# Encoder (SimCLR-style)\n",
        "# -----------------------------\n",
        "def build_encoder():\n",
        "    base = keras.applications.ResNet50(weights=\"imagenet\", include_top=False, input_shape=(224,224,3), pooling=\"avg\")\n",
        "    inputs = keras.Input(shape=(224,224,3))\n",
        "    features = base(inputs)\n",
        "    projection = layers.Dense(128, activation=\"relu\")(features)\n",
        "    return keras.Model(inputs, projection)\n",
        "\n",
        "# -----------------------------\n",
        "# UKMLP Classifier\n",
        "# -----------------------------\n",
        "def build_classifier(num_classes):\n",
        "    model = keras.Sequential()\n",
        "    model.add(layers.Input(shape=(128,)))\n",
        "    for _ in range(12):\n",
        "        model.add(layers.Dense(128, activation=\"relu\"))\n",
        "    model.add(layers.Dense(num_classes, activation=\"softmax\"))\n",
        "    model.compile(optimizer=\"adam\", loss=\"sparse_categorical_crossentropy\", metrics=[\"accuracy\"])\n",
        "    return model\n",
        "\n",
        "# -----------------------------\n",
        "# Evaluation Pipeline\n",
        "# -----------------------------\n",
        "def evaluate_model(X, y, dataset_name, label_ratio):\n",
        "    indices = np.arange(len(X))\n",
        "    np.random.shuffle(indices)\n",
        "    X, y = X[indices], y[indices]\n",
        "\n",
        "    n_labeled = max(100, int(len(X) * label_ratio))\n",
        "    if len(X) - n_labeled < 100:\n",
        "        print(f\"[Warning] Not enough test data in {dataset_name} for ratio {label_ratio}. Skipping.\")\n",
        "        return [label_ratio * 100, 0, 0, 0, 0]\n",
        "\n",
        "    X_labeled, y_labeled = X[:n_labeled], y[:n_labeled]\n",
        "    X_test, y_test = X[n_labeled:], y[n_labeled:]\n",
        "\n",
        "    encoder = build_encoder()\n",
        "    X_train_encoded = encoder.predict(X_labeled, verbose=0)\n",
        "    X_test_encoded = encoder.predict(X_test, verbose=0)\n",
        "\n",
        "    clf = build_classifier(num_classes=len(np.unique(y)))\n",
        "    clf.fit(X_train_encoded, y_labeled, epochs=5, batch_size=32, verbose=0)\n",
        "    y_pred = np.argmax(clf.predict(X_test_encoded, verbose=0), axis=1)\n",
        "\n",
        "    return [\n",
        "        label_ratio * 100,\n",
        "        precision_score(y_test, y_pred, average=\"macro\") * 100,\n",
        "        recall_score(y_test, y_pred, average=\"macro\") * 100,\n",
        "        f1_score(y_test, y_pred, average=\"macro\") * 100,\n",
        "        accuracy_score(y_test, y_pred) * 100,\n",
        "    ]\n",
        "\n",
        "# -----------------------------\n",
        "# Main Execution\n",
        "# -----------------------------\n",
        "# Adjust these to your actual mounted paths\n",
        "lc25000_root = \"/content/drive/MyDrive/Datasets/sample_LC25000\"\n",
        "bccd_root = \"/content/drive/MyDrive/Datasets/sample_BCCD\"\n",
        "\n",
        "# Label Map for LC25000\n",
        "lc_label_map = {\n",
        "    \"lung_aca\": 0,\n",
        "    \"lung_n\": 1,\n",
        "    \"lung_sq\": 2,\n",
        "    \"colon_aca\": 3,\n",
        "    \"colon_n\": 4,\n",
        "}\n",
        "\n",
        "# Label Map for BCCD\n",
        "bccd_label_map = {\n",
        "    \"EOSINOPHIL\": 0,\n",
        "    \"LYMPHOCYTE\": 1,\n",
        "    \"MONOCYTE\": 2,\n",
        "    \"NEUTROPHIL\": 3,\n",
        "    \"RBC\": 4\n",
        "}\n",
        "\n",
        "# Load LC25000 dataset\n",
        "print(\"==> Loading LC25000...\")\n",
        "X_lc, y_lc = safe_load_dataset(lc25000_root, lc_label_map)\n",
        "\n",
        "# Load BCCD dataset\n",
        "print(\"==> Loading BCCD...\")\n",
        "X_bccd, y_bccd = safe_load_dataset(bccd_root, bccd_label_map)\n",
        "\n",
        "print(\"LC25000 Loaded:\", X_lc.shape, np.unique(y_lc, return_counts=True))\n",
        "print(\"BCCD Loaded:\", X_bccd.shape, np.unique(y_bccd, return_counts=True))\n",
        "\n",
        "# Run Evaluation for LC25000 and BCCD for different labeled ratios\n",
        "results_lc = [evaluate_model(X_lc, y_lc, \"LC25000\", r) for r in [0.1, 0.25, 0.5]]\n",
        "results_bccd = [evaluate_model(X_bccd, y_bccd, \"BCCD\", r) for r in [0.1, 0.25, 0.5]]\n",
        "\n",
        "# Display the results in DataFrames\n",
        "df_lc = pd.DataFrame(results_lc, columns=[\"Labeled Ratio\", \"Precision\", \"Recall\", \"F1-score\", \"Accuracy\"])\n",
        "df_bccd = pd.DataFrame(results_bccd, columns=[\"Labeled Ratio\", \"Precision\", \"Recall\", \"F1-score\", \"Accuracy\"])\n",
        "\n",
        "# Visualizing the results\n",
        "plt.figure(figsize=(12,6))\n",
        "\n",
        "# LC25000 Heatmap\n",
        "plt.subplot(1, 2, 1)\n",
        "sns.heatmap(df_lc.set_index(\"Labeled Ratio\"), annot=True, fmt=\".2f\", cmap=\"Purples\")\n",
        "plt.title(\"LC25000 - UKSSL\")\n",
        "\n",
        "# BCCD Heatmap\n",
        "plt.subplot(1, 2, 2)\n",
        "sns.heatmap(df_bccd.set_index(\"Labeled Ratio\"), annot=True, fmt=\".2f\", cmap=\"Purples\")\n",
        "plt.title(\"BCCD - UKSSL\")\n",
        "\n",
        "plt.tight_layout()\n",
        "plt.show()\n",
        "\n",
        "# Print the evaluation results\n",
        "print(\"\\nLC25000 Performance:\")\n",
        "print(df_lc.to_string(index=False))\n",
        "\n",
        "print(\"\\nBCCD Performance:\")\n",
        "print(df_bccd.to_string(index=False))\n"
      ]
    }
  ]
}